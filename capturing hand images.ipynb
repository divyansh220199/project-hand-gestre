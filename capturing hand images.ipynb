{
 "cells": [
  {
   "cell_type": "markdown",
   "metadata": {},
   "source": [
    "## collecting dataSet images"
   ]
  },
  {
   "cell_type": "code",
   "execution_count": 17,
   "metadata": {},
   "outputs": [],
   "source": [
    "import cv2\n",
    "import numpy as np"
   ]
  },
  {
   "cell_type": "markdown",
   "metadata": {},
   "source": [
    "## getting background"
   ]
  },
  {
   "cell_type": "code",
   "execution_count": 19,
   "metadata": {},
   "outputs": [],
   "source": [
    "def get_background(img,weight_of_input_img=0.5):\n",
    "    global background\n",
    "    if(background is None):\n",
    "        background = img.copy().astype('float')\n",
    "        return \n",
    "    else:\n",
    "        cv2.accumulateWeighted(img, background, weight_of_input_img)#adding new frame to the background\n",
    "        return "
   ]
  },
  {
   "cell_type": "code",
   "execution_count": 24,
   "metadata": {},
   "outputs": [],
   "source": [
    "background = None\n",
    "weight_of_input_img = 0.1\n",
    "num_frames = 1\n",
    "cap = cv2.VideoCapture(0)\n",
    "while(cap.isOpened()):\n",
    "    ret, frame = cap.read()#captureing a frame\n",
    "    image = cv2.resize(frame,(500,500))#resizing the frame\n",
    "    image = cv2.flip(image,1)\n",
    "    img_gray = cv2.cvtColor(image,cv2.COLOR_BGR2GRAY)#converting to grayscale image\n",
    "    if(num_frames <= 100):\n",
    "        get_background(img_gray,weight_of_input_img)#getting the background\n",
    "        num_frames+=1\n",
    "        img_gray = cv2.putText(img_gray,'Capturing Background',(20,20),cv2.FONT_HERSHEY_SIMPLEX,1,(255,0,0),2,cv2.LINE_AA)##putting txt on the image\n",
    "        cv2.imshow('live_feed',img_gray)#showing the image\n",
    "        cv2.waitKey(1) & 0xFF\n",
    "        continue\n",
    "        \n",
    "    elif(num_frames == 101):\n",
    "        background = background.astype('uint8')#converting bsckgroung to unsigned int\n",
    "        background = cv2.GaussianBlur(background,(5,5),0)#blurring the background\n",
    "        num_frames+=1\n",
    "        bg = cv2.putText(background.copy(),'Background Image',(20,20),cv2.FONT_HERSHEY_SIMPLEX,1,(255,0,0),2,cv2.LINE_AA)#putting text on the window\n",
    "        cv2.imshow('background',bg)\n",
    "        cv2.waitKey(1) & 0xFF\n",
    "        continue\n",
    "        \n",
    "    elif(num_frames > 101):\n",
    "        img_gray = cv2.putText(img_gray,'Background Captured',(20,20),cv2.FONT_HERSHEY_SIMPLEX,1,(255,0,0),2,cv2.LINE_AA)\n",
    "        cv2.imshow('live_feed',img_gray)\n",
    "        \n",
    "    key = cv2.waitKey(1) & 0xFF\n",
    "    if(key == ord('q') or key == ord('Q')):\n",
    "        break\n",
    "cap.release()\n",
    "cv2.destroyAllWindows()"
   ]
  },
  {
   "cell_type": "markdown",
   "metadata": {},
   "source": [
    "## getting foreground by background substraction"
   ]
  },
  {
   "cell_type": "code",
   "execution_count": 22,
   "metadata": {},
   "outputs": [],
   "source": [
    "def get_hand_contour_and_threshold_image(img,background,threshold = 30):\n",
    "    img_diff_form_background = cv2.absdiff(img, background)#calculating the difference in new frame and background\n",
    "    \n",
    "    _,img_threshold = cv2.threshold(img_diff_form_background,threshold,255,cv2.THRESH_BINARY)#getting threshold image\n",
    "    \n",
    "    _, contours, _ = cv2.findContours(img_threshold.copy(), cv2.RETR_TREE, cv2.CHAIN_APPROX_SIMPLE)#finding contours in the image\n",
    "    \n",
    "    if(len(contours) == 0):#if no contour then we will return\n",
    "        return\n",
    "    else:\n",
    "        contour = max(contours, key = cv2.contourArea)##giving contour with maximun area\n",
    "        \n",
    "        return contour, img_threshold #returning the contour with max area and threshold image"
   ]
  },
  {
   "cell_type": "code",
   "execution_count": 37,
   "metadata": {},
   "outputs": [],
   "source": [
    "roi_background = background[:275,225:]#declaring the background region of interest\n",
    "threshold_value = 30 #threshold value\n",
    "start_saving = False #variable that on being true allows to start saving the images \n",
    "num_images = 0 # tells the number of images captured\n",
    "images_to_get = 100\n",
    "cap = cv2.VideoCapture(0)\n",
    "while(cap.isOpened()):\n",
    "    ret,frame = cap.read()\n",
    "    \n",
    "    image = cv2.resize(frame,(500,500))\n",
    "    \n",
    "    image = cv2.flip(image,1)\n",
    "    \n",
    "    img_gray = cv2.cvtColor(image,cv2.COLOR_BGR2GRAY) #converting to grayscale\n",
    "    \n",
    "    img_gray_blur = cv2.GaussianBlur(img_gray,(5,5),0) #blurring the image \n",
    "    \n",
    "    roi_blur_image = img_gray_blur[:275,225:]#deciding the region of interst for blurr image\n",
    "    \n",
    "    roi_img_gray = img_gray[:275,225:]#deciding the region of interst for gray scale\n",
    "    \n",
    "    hand_contour_and_threshold_image = get_hand_contour_and_threshold_image(roi_blur_image, roi_background, threshold_value)#getting hand contour and threshold image and none is no hand in the box\n",
    "    \n",
    "    if(hand_contour_and_threshold_image is not None and num_images!=images_to_get):#if hand_contour_and_threshold_image is None then it means that or hand is not in the box\n",
    "        \n",
    "        hand_contour, threshold_image = hand_contour_and_threshold_image #getting the contour with max area and threshold image\n",
    "        \n",
    "        x,y,w,h = cv2.boundingRect(hand_contour) #getting the coordinates(x,y) rectangle and height and width (h,w) which inscribe the contour\n",
    "        \n",
    "        cv2.rectangle(roi_img_gray,(x,y),(x+w,y+h),(0,255,0),2) #drawing the contour reactange on the roi of grayscale image\n",
    "        \n",
    "        cv2.rectangle(img_gray,(220,0),(500,280),(255,0,0),2) #drawing the rectangle in which we have to place our hand to capture and store image\n",
    "        \n",
    "        cv2.imshow('dg',img_gray)\n",
    "        \n",
    "        cv2.imshow('threshold',threshold_image)\n",
    "        \n",
    "        if(start_saving == False):\n",
    "            signal_to_start_saving = cv2.waitKey(1) & 0xFF #getting a key from keyboard to start the saving of images\n",
    "            \n",
    "            if(signal_to_start_saving == ord('s') or signal_to_start_saving == ord('S')):#turns the start_saving var true if we press S or s on keyboard\n",
    "                start_saving = True\n",
    "        else:\n",
    "            location_to_save_image = r'F:\\project hand gestures\\hand dataset\\test dataset\\hand rock' #location of saving the image\n",
    "            \n",
    "            cv2.imwrite(location_to_save_image +'\\hand_rock'+str(num_images)+'.jpg',threshold_image)#saving the image to a location\n",
    "            \n",
    "            num_images+=1 #increasing the number of images after saving one image\n",
    "    else: # this means that hand is not in the box or we have reached specified number of images\n",
    "        start_saving = False #stop saving images by making this false\n",
    "        if(num_images >= images_to_get):\n",
    "                cv2.putText(img_gray,'dataset taken',(100,100),cv2.FONT_HERSHEY_SIMPLEX,1,(255,0,0),2,cv2.LINE_AA)#putting text on the window telling that dataset is taken\n",
    "        else:\n",
    "            cv2.putText(img_gray,'Place hand in box',(100,100),cv2.FONT_HERSHEY_SIMPLEX,1,(255,0,0),2,cv2.LINE_AA)#putting text on the window to place hand in the box to start saving the image\n",
    "\n",
    "        cv2.rectangle(img_gray,(220,0),(500,280),(255,0,0),2)#drwaing rectangle to place hand in\n",
    "        \n",
    "        cv2.imshow('dg',img_gray)\n",
    "    \n",
    "    key = cv2.waitKey(1) & 0xFF\n",
    "    if(key == ord('q') or key == ord('Q')):\n",
    "        break\n",
    "cap.release()\n",
    "cv2.destroyAllWindows()"
   ]
  }
 ],
 "metadata": {
  "kernelspec": {
   "display_name": "Python 3",
   "language": "python",
   "name": "python3"
  },
  "language_info": {
   "codemirror_mode": {
    "name": "ipython",
    "version": 3
   },
   "file_extension": ".py",
   "mimetype": "text/x-python",
   "name": "python",
   "nbconvert_exporter": "python",
   "pygments_lexer": "ipython3",
   "version": "3.7.3"
  }
 },
 "nbformat": 4,
 "nbformat_minor": 4
}
