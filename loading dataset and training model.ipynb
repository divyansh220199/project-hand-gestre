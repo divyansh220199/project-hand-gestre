{
 "cells": [
  {
   "cell_type": "markdown",
   "metadata": {},
   "source": [
    "## loading dataset"
   ]
  },
  {
   "cell_type": "code",
   "execution_count": 1,
   "metadata": {},
   "outputs": [],
   "source": [
    "import pickle\n",
    "import numpy as np"
   ]
  },
  {
   "cell_type": "code",
   "execution_count": 2,
   "metadata": {},
   "outputs": [],
   "source": [
    "with open(r'F:\\project hand gestures\\hand dataset\\x_train.pickle', 'rb') as file:\n",
    "    x_train = pickle.load(file)\n",
    "with open(r'F:\\project hand gestures\\hand dataset\\y_train.pickle', 'rb') as file:\n",
    "    y_train = pickle.load(file)\n",
    "with open(r'F:\\project hand gestures\\hand dataset\\x_test.pickle', 'rb') as file:\n",
    "    x_test = pickle.load(file)\n",
    "with open(r'F:\\project hand gestures\\hand dataset\\y_test.pickle', 'rb') as file:\n",
    "    y_test = pickle.load(file)"
   ]
  },
  {
   "cell_type": "code",
   "execution_count": 3,
   "metadata": {},
   "outputs": [
    {
     "name": "stdout",
     "output_type": "stream",
     "text": [
      "(2500, 60, 60, 3) (2500,) (500, 60, 60, 3) (500,)\n"
     ]
    }
   ],
   "source": [
    "print(x_train.shape,y_train.shape,x_test.shape,y_test.shape)"
   ]
  },
  {
   "cell_type": "markdown",
   "metadata": {},
   "source": [
    "## changing y to hot encoded form"
   ]
  },
  {
   "cell_type": "code",
   "execution_count": 4,
   "metadata": {},
   "outputs": [],
   "source": [
    "def get_hot_encoded(y):\n",
    "    y_hot_encoded = []\n",
    "    for value in y:\n",
    "        hot_encoded = np.zeros((5) , dtype = 'float')\n",
    "        hot_encoded[value] = 1.0\n",
    "        y_hot_encoded.append(hot_encoded)\n",
    "    y_hot_encoded = np.array(y_hot_encoded)\n",
    "    return y_hot_encoded"
   ]
  },
  {
   "cell_type": "code",
   "execution_count": 5,
   "metadata": {},
   "outputs": [],
   "source": [
    "y_train_hot_encoded = get_hot_encoded(y_train)\n",
    "y_test_hot_encoded = get_hot_encoded(y_test)"
   ]
  },
  {
   "cell_type": "markdown",
   "metadata": {},
   "source": [
    "## buliding the models using keras"
   ]
  },
  {
   "cell_type": "code",
   "execution_count": 6,
   "metadata": {},
   "outputs": [],
   "source": [
    "x_train = x_train/255.0\n",
    "x_test = x_test/255.0"
   ]
  },
  {
   "cell_type": "code",
   "execution_count": 9,
   "metadata": {},
   "outputs": [],
   "source": [
    "from keras.models import Sequential\n",
    "from keras.layers import Dense, Conv2D, MaxPooling2D,Flatten"
   ]
  },
  {
   "cell_type": "code",
   "execution_count": 10,
   "metadata": {},
   "outputs": [],
   "source": [
    "def train_model(x_train, y_train):\n",
    "    global model\n",
    "    \n",
    "    model.add(Conv2D(32,(3,3),activation = 'relu', padding = 'same', input_shape = (60,60,3)))\n",
    "    model.add(MaxPooling2D(pool_size=(2,2)))\n",
    "\n",
    "    model.add(Conv2D(64,(3,3),activation = 'relu', padding = 'same'))\n",
    "    model.add(MaxPooling2D(pool_size=(2,2)))\n",
    "\n",
    "    model.add(Flatten())\n",
    "\n",
    "    model.add(Dense(units = 2000, activation = 'relu'))\n",
    "\n",
    "    model.add(Dense(units = 1000, activation = 'relu'))\n",
    "\n",
    "    model.add(Dense(units = 5, activation = 'softmax'))\n",
    "\n",
    "    model.compile(optimizer = 'adam', loss = 'categorical_crossentropy', metrics = ['accuracy'])\n",
    "\n",
    "    model.fit(x_train, y_train, epochs = 4, batch_size = 250)\n"
   ]
  },
  {
   "cell_type": "code",
   "execution_count": 11,
   "metadata": {},
   "outputs": [
    {
     "name": "stdout",
     "output_type": "stream",
     "text": [
      "WARNING:tensorflow:From C:\\Anaconda\\lib\\site-packages\\keras\\backend\\tensorflow_backend.py:4070: The name tf.nn.max_pool is deprecated. Please use tf.nn.max_pool2d instead.\n",
      "\n",
      "WARNING:tensorflow:From C:\\Anaconda\\lib\\site-packages\\keras\\backend\\tensorflow_backend.py:422: The name tf.global_variables is deprecated. Please use tf.compat.v1.global_variables instead.\n",
      "\n",
      "Epoch 1/4\n",
      "2500/2500 [==============================] - 15s 6ms/step - loss: 0.9679 - accuracy: 0.6808\n",
      "Epoch 2/4\n",
      "2500/2500 [==============================] - 12s 5ms/step - loss: 0.0627 - accuracy: 0.9816\n",
      "Epoch 3/4\n",
      "2500/2500 [==============================] - 15s 6ms/step - loss: 0.0033 - accuracy: 0.9984\n",
      "Epoch 4/4\n",
      "2500/2500 [==============================] - 13s 5ms/step - loss: 5.3173e-04 - accuracy: 1.0000\n"
     ]
    }
   ],
   "source": [
    "model = Sequential()\n",
    "train_model(x_train, y_train_hot_encoded)"
   ]
  },
  {
   "cell_type": "code",
   "execution_count": 12,
   "metadata": {},
   "outputs": [
    {
     "name": "stdout",
     "output_type": "stream",
     "text": [
      "500/500 [==============================] - 1s 2ms/step\n"
     ]
    },
    {
     "data": {
      "text/plain": [
       "[0.3497126875817776, 0.9480000138282776]"
      ]
     },
     "execution_count": 12,
     "metadata": {},
     "output_type": "execute_result"
    }
   ],
   "source": [
    "predictions = model.predict(x_test)\n",
    "score = model.evaluate(x_test,y_test_hot_encoded)\n",
    "score"
   ]
  }
 ],
 "metadata": {
  "kernelspec": {
   "display_name": "Python 3",
   "language": "python",
   "name": "python3"
  },
  "language_info": {
   "codemirror_mode": {
    "name": "ipython",
    "version": 3
   },
   "file_extension": ".py",
   "mimetype": "text/x-python",
   "name": "python",
   "nbconvert_exporter": "python",
   "pygments_lexer": "ipython3",
   "version": "3.7.3"
  }
 },
 "nbformat": 4,
 "nbformat_minor": 4
}
