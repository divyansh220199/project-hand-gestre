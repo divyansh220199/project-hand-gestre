{
 "cells": [
  {
   "cell_type": "markdown",
   "metadata": {},
   "source": [
    "## loading image from data set images and combining it to get dataset"
   ]
  },
  {
   "cell_type": "code",
   "execution_count": 1,
   "metadata": {},
   "outputs": [],
   "source": [
    "import glob\n",
    "import numpy as np\n",
    "import cv2\n",
    "import random\n",
    "from matplotlib import pyplot as plt\n",
    "import pickle"
   ]
  },
  {
   "cell_type": "code",
   "execution_count": 2,
   "metadata": {},
   "outputs": [],
   "source": [
    "def get_path_of_files_in_image_dataset_folder(image_dataset_folder):\n",
    "    all_folders = glob.glob(image_dataset_folder + '\\*')\n",
    "    path_of_files = []\n",
    "    for folder in all_folders:\n",
    "        files_in_folder = glob.glob(folder + '\\*')\n",
    "        path_of_files.append(sorted(files_in_folder))\n",
    "    path_of_files = np.array(path_of_files)\n",
    "    return path_of_files"
   ]
  },
  {
   "cell_type": "code",
   "execution_count": 9,
   "metadata": {},
   "outputs": [],
   "source": [
    "def list_of_images_with_label(path_of_files):\n",
    "    IMAGE_SIZE = 60\n",
    "    images_array = []\n",
    "    categories = [0,1,2,3,4]\n",
    "    for category in categories:\n",
    "        for file in path_of_files[category]:\n",
    "            image = cv2.imread(file,0)\n",
    "            image = cv2.resize(image,(IMAGE_SIZE,IMAGE_SIZE))\n",
    "            #image = np.reshape(-1,(IMAGE_SIZE,IMAGE_SIZE,1))\n",
    "            images_array.append((image,category))\n",
    "    return images_array"
   ]
  },
  {
   "cell_type": "code",
   "execution_count": 4,
   "metadata": {},
   "outputs": [],
   "source": [
    "def get_X_and_y(images_array):\n",
    "    x = []\n",
    "    y = []\n",
    "    \n",
    "    for image,category in images_array:\n",
    "        x.append(image)\n",
    "        y.append(category)\n",
    "        \n",
    "    x = np.array(x)\n",
    "    y = np.array(y)\n",
    "    return x,y"
   ]
  },
  {
   "cell_type": "code",
   "execution_count": 5,
   "metadata": {},
   "outputs": [],
   "source": [
    "def save_dataset(x,y,folder_to_save_dataset,train_or_test):\n",
    "    if(train_or_test == 'train'):\n",
    "        with open(folder_to_save_dataset + 'x_train' +'.pickle','wb') as file:\n",
    "            pickle.dump(x,file)\n",
    "\n",
    "        with open(folder_to_save_dataset + 'y_train.pickle','wb') as file:\n",
    "            pickle.dump(y,file)\n",
    "            \n",
    "    elif(train_or_test == 'test'):\n",
    "        with open(folder_to_save_dataset + 'x_test' +'.pickle','wb') as file:\n",
    "            pickle.dump(x,file)\n",
    "\n",
    "        with open(folder_to_save_dataset + 'y_test.pickle','wb') as file:\n",
    "            pickle.dump(y,file)"
   ]
  },
  {
   "cell_type": "code",
   "execution_count": 6,
   "metadata": {},
   "outputs": [],
   "source": [
    "def get_train_test_dataset(image_dataset_folder,folder_to_save_dataset_in,train_or_test):\n",
    "    path_of_files = get_path_of_files_in_image_dataset_folder(image_dataset_folder)\n",
    "    images_array = list_of_images_with_label(path_of_files)\n",
    "    random.shuffle(images_array)\n",
    "    x,y = get_X_and_y(images_array)\n",
    "    save_dataset(x,y,folder_to_save_dataset_in,train_or_test)\n",
    "    return"
   ]
  },
  {
   "cell_type": "code",
   "execution_count": 7,
   "metadata": {},
   "outputs": [],
   "source": [
    "training_image_dataset_folder = r'F:\\project hand gestures\\hand dataset images\\train dataset\\\\'\n",
    "testing_image_dataset_folder = r'F:\\project hand gestures\\hand dataset images\\test dataset\\\\'\n",
    "folder_to_save_dataset_in = r'F:\\project hand gestures\\hand dataset\\\\'"
   ]
  },
  {
   "cell_type": "code",
   "execution_count": 8,
   "metadata": {},
   "outputs": [],
   "source": [
    "get_train_test_dataset(training_image_dataset_folder,folder_to_save_dataset_in,'train')\n",
    "\n",
    "get_train_test_dataset(testing_image_dataset_folder,folder_to_save_dataset_in,'test')"
   ]
  }
 ],
 "metadata": {
  "kernelspec": {
   "display_name": "Python 3",
   "language": "python",
   "name": "python3"
  },
  "language_info": {
   "codemirror_mode": {
    "name": "ipython",
    "version": 3
   },
   "file_extension": ".py",
   "mimetype": "text/x-python",
   "name": "python",
   "nbconvert_exporter": "python",
   "pygments_lexer": "ipython3",
   "version": "3.7.3"
  }
 },
 "nbformat": 4,
 "nbformat_minor": 4
}
